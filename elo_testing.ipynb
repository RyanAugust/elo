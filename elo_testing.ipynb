{
 "cells": [
  {
   "cell_type": "code",
   "execution_count": 1,
   "metadata": {},
   "outputs": [],
   "source": [
    "import elo"
   ]
  },
  {
   "cell_type": "code",
   "execution_count": 2,
   "metadata": {},
   "outputs": [],
   "source": [
    "test = elo.ELO(player_list=['Ryan','Sean','Michael'])"
   ]
  },
  {
   "cell_type": "code",
   "execution_count": 3,
   "metadata": {},
   "outputs": [
    {
     "name": "stdout",
     "output_type": "stream",
     "text": [
      "{'Michael': 1600, 'Sean': 1600, 'Ryan': 1600}\n"
     ]
    }
   ],
   "source": [
    "test.EM.show_cache()"
   ]
  },
  {
   "cell_type": "code",
   "execution_count": 4,
   "metadata": {},
   "outputs": [
    {
     "name": "stdout",
     "output_type": "stream",
     "text": [
      "{'Michael': 1600, 'Sean': 1584.0, 'Ryan': 1616.0}\n"
     ]
    }
   ],
   "source": [
    "test.do_competition(winner='Ryan',loser='Sean')\n",
    "test.EM.show_cache()"
   ]
  },
  {
   "cell_type": "code",
   "execution_count": 5,
   "metadata": {},
   "outputs": [
    {
     "name": "stdout",
     "output_type": "stream",
     "text": [
      "{'Michael': 1600, 'Sean': 1569.4695015289756, 'Ryan': 1630.5304984710244}\n"
     ]
    }
   ],
   "source": [
    "test.do_competition(winner='Ryan',loser='Sean')\n",
    "test.EM.show_cache()"
   ]
  },
  {
   "cell_type": "code",
   "execution_count": 6,
   "metadata": {},
   "outputs": [
    {
     "name": "stdout",
     "output_type": "stream",
     "text": [
      "{'Michael': 1600.0, 'Sean': 1584.7347507644877, 'Ryan': 1615.2652492355123}\n"
     ]
    }
   ],
   "source": [
    "test.season_reset()\n",
    "test.EM.show_cache()"
   ]
  },
  {
   "cell_type": "code",
   "execution_count": null,
   "metadata": {},
   "outputs": [],
   "source": [
    "test"
   ]
  }
 ],
 "metadata": {
  "kernelspec": {
   "display_name": "py364",
   "language": "python",
   "name": "py364"
  },
  "language_info": {
   "codemirror_mode": {
    "name": "ipython",
    "version": 2
   },
   "file_extension": ".py",
   "mimetype": "text/x-python",
   "name": "python",
   "nbconvert_exporter": "python",
   "pygments_lexer": "ipython2",
   "version": "2.7.14"
  }
 },
 "nbformat": 4,
 "nbformat_minor": 2
}
